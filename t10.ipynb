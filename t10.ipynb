{
 "cells": [
  {
   "cell_type": "code",
   "execution_count": 1,
   "metadata": {},
   "outputs": [
    {
     "name": "stdout",
     "output_type": "stream",
     "text": [
      "Populating the interactive namespace from numpy and matplotlib\n"
     ]
    }
   ],
   "source": [
    "import numpy as np\n",
    "import matplotlib.pyplot as plt\n",
    "%pylab inline\n",
    "from scipy.optimize import curve_fit"
   ]
  },
  {
   "cell_type": "code",
   "execution_count": 2,
   "metadata": {},
   "outputs": [],
   "source": [
    "data = np.loadtxt(\"dataT10.txt\")"
   ]
  },
  {
   "cell_type": "code",
   "execution_count": 3,
   "metadata": {},
   "outputs": [
    {
     "name": "stdout",
     "output_type": "stream",
     "text": [
      "<type 'numpy.ndarray'>\n"
     ]
    }
   ],
   "source": [
    "anguloP = data[:,0]\n",
    "anguloA = data[:,1]\n",
    "Yo = data[:,2]\n",
    "Vo = data[:,3]\n",
    "a = data[:,4]\n",
    "print(type(a))\n"
   ]
  },
  {
   "cell_type": "code",
   "execution_count": 4,
   "metadata": {},
   "outputs": [],
   "source": [
    "#Metodo tomado de internet\n",
    "def sumalista(listaNumeros):\n",
    "   if len(listaNumeros) == 1:\n",
    "        return float(listaNumeros[0])\n",
    "   else:\n",
    "        return float(listaNumeros[0] + sumalista(listaNumeros[1:]))"
   ]
  },
  {
   "cell_type": "code",
   "execution_count": 5,
   "metadata": {},
   "outputs": [],
   "source": [
    "def f1 (Ao, A1, A2, Angulo):\n",
    "    return Ao*(np.cos(2*(np.pi*Angulo/180) +A1) ) + A2\n"
   ]
  },
  {
   "cell_type": "code",
   "execution_count": 6,
   "metadata": {},
   "outputs": [
    {
     "name": "stderr",
     "output_type": "stream",
     "text": [
      "/home/ramsus/.local/lib/python2.7/site-packages/scipy/optimize/minpack.py:787: OptimizeWarning: Covariance of the parameters could not be estimated\n",
      "  category=OptimizeWarning)\n"
     ]
    }
   ],
   "source": [
    "ran1 = f1(a, -8, -8, 45 )\n",
    "AoOpt , basura = curve_fit (f1, a, ran1)\n",
    "\n",
    "ran2 = f1(sumalista(AoOpt)/len(AoOpt), a, 10, 45 )\n",
    "A1Opt , basura = curve_fit (f1, a, ran2)\n",
    "\n",
    "ran3 = f1(sumalista(AoOpt)/len(AoOpt), sumalista(A1Opt)/len(A1Opt), a, 45 )\n",
    "A2Opt , basura = curve_fit (f1, a, ran3)\n",
    "\n",
    "f1Fin = f1(sumalista(AoOpt)/len(AoOpt), sumalista(A1Opt)/len(A1Opt), sumalista(A2Opt)/len(A2Opt), anguloP  )\n",
    "f1Fin= sorted(f1Fin, reverse=True)\n",
    "\n",
    "\n"
   ]
  },
  {
   "cell_type": "code",
   "execution_count": 7,
   "metadata": {},
   "outputs": [],
   "source": [
    "def f2 (Ao, A1, A2, Angulo):\n",
    "    return Ao+(A1*Angulo) +(A2*(Angulo*Angulo))"
   ]
  },
  {
   "cell_type": "code",
   "execution_count": 8,
   "metadata": {},
   "outputs": [],
   "source": [
    "ran1 = f2(a, -8, -8, 45 )\n",
    "AoOpt , basura = curve_fit (f2, a, ran1)\n",
    "\n",
    "ran2 = f2(sumalista(AoOpt)/len(AoOpt), a, 10, 45 )\n",
    "A1Opt , basura = curve_fit (f2, a, ran2)\n",
    "\n",
    "ran3 = f2(sumalista(AoOpt)/len(AoOpt), sumalista(A1Opt)/len(A1Opt), a, 45 )\n",
    "A2Opt , basura = curve_fit (f2, a, ran3)\n",
    "\n",
    "f2Fin = f1(sumalista(AoOpt)/len(AoOpt), sumalista(A1Opt)/len(A1Opt), sumalista(A2Opt)/len(A2Opt), anguloP )\n",
    "f2Fin= sorted(f2Fin, reverse=True)\n"
   ]
  },
  {
   "cell_type": "code",
   "execution_count": 9,
   "metadata": {},
   "outputs": [
    {
     "data": {
      "text/plain": [
       "<matplotlib.legend.Legend at 0x7f2e5155d7d0>"
      ]
     },
     "execution_count": 9,
     "metadata": {},
     "output_type": "execute_result"
    },
    {
     "data": {
      "image/png": "[encoded data removed]",
      "text/plain": [
       "<Figure size 432x288 with 1 Axes>"
      ]
     },
     "metadata": {
      "needs_background": "light"
     },
     "output_type": "display_data"
    }
   ],
   "source": [
    "x = linspace(0,len(f1Fin),len(f1Fin))\n",
    "plt.plot(x, f1Fin, label=\"f1\")\n",
    "x2 = linspace(0,len(f2Fin),len(f2Fin))\n",
    "plt.plot(x2, f2Fin, label=\"f2\")\n",
    "legend()"
   ]
  },
  {
   "cell_type": "markdown",
   "metadata": {},
   "source": [
    "Error\n"
   ]
  },
  {
   "cell_type": "code",
   "execution_count": 10,
   "metadata": {},
   "outputs": [],
   "source": [
    "def sumE (lista, lista2):\n",
    "    if len(lista) == 1 or len(lista2) == 1:\n",
    "        return float((lista[0]-lista2[0])**2)\n",
    "    else:\n",
    "        return float( (lista[0]-lista2[0])**2 + sumE(lista[1:], lista2[1:]))\n"
   ]
  },
  {
   "cell_type": "code",
   "execution_count": 13,
   "metadata": {},
   "outputs": [
    {
     "name": "stdout",
     "output_type": "stream",
     "text": [
      "F1 es mas precisa\n"
     ]
    }
   ],
   "source": [
    "a = sorted(a, reverse=True)\n",
    "\n",
    "#error F1\n",
    "e1=sumE(f1Fin, a)\n",
    "#error F2\n",
    "e2 =sumE(f2Fin, a)\n",
    "if f1>f2:\n",
    "    print(\"F2 es mas precisa\")\n",
    "else:\n",
    "    print(\"F1 es mas precisa\")\n",
    "\n"
   ]
  }
 ],
 "metadata": {
  "kernelspec": {
   "display_name": "Python 2",
   "language": "python",
   "name": "python2"
  },
  "language_info": {
   "codemirror_mode": {
    "name": "ipython",
    "version": 2
   },
   "file_extension": ".py",
   "mimetype": "text/x-python",
   "name": "python",
   "nbconvert_exporter": "python",
   "pygments_lexer": "ipython2",
   "version": "2.7.15rc1"
  }
 },
 "nbformat": 4,
 "nbformat_minor": 1
}
