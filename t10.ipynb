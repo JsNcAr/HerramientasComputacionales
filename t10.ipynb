{
 "cells": [
  {
   "cell_type": "code",
   "execution_count": 1,
   "metadata": {
    "collapsed": false
   },
   "outputs": [
    {
     "name": "stdout",
     "output_type": "stream",
     "text": [
      "Populating the interactive namespace from numpy and matplotlib\n"
     ]
    }
   ],
   "source": [
    "import numpy as np\n",
    "import matplotlib.pyplot as plt\n",
    "%pylab inline\n",
    "from scipy.optimize import curve_fit"
   ]
  },
  {
   "cell_type": "code",
   "execution_count": 2,
   "metadata": {
    "collapsed": false
   },
   "outputs": [],
   "source": [
    "data = np.loadtxt(\"dataT10.txt\")"
   ]
  },
  {
   "cell_type": "code",
   "execution_count": 3,
   "metadata": {
    "collapsed": false
   },
   "outputs": [],
   "source": [
    "anguloP = data[:,0]\n",
    "anguloA = data[:,1]\n",
    "Yo = data[:,2]\n",
    "Vo = data[:,3]\n",
    "a = data[:,4]"
   ]
  },
  {
   "cell_type": "code",
   "execution_count": 4,
   "metadata": {
    "collapsed": true
   },
   "outputs": [],
   "source": [
    "#Metodo tomado de internet\n",
    "def sumalista(listaNumeros):\n",
    "   if len(listaNumeros) == 1:\n",
    "        return float(listaNumeros[0])\n",
    "   else:\n",
    "        return float(listaNumeros[0] + sumalista(listaNumeros[1:]))"
   ]
  },
  {
   "cell_type": "code",
   "execution_count": 5,
   "metadata": {
    "collapsed": false
   },
   "outputs": [],
   "source": [
    "def f1 (Ao, A1, A2, Angulo):\n",
    "    return Ao*(np.cos(2*np.pi*(Angulo/180)+A1) ) + A2\n"
   ]
  },
  {
   "cell_type": "code",
   "execution_count": 6,
   "metadata": {
    "collapsed": false
   },
   "outputs": [
    {
     "name": "stderr",
     "output_type": "stream",
     "text": [
      "/usr/lib/python2.7/dist-packages/scipy/optimize/minpack.py:690: OptimizeWarning: Covariance of the parameters could not be estimated\n",
      "  category=OptimizeWarning)\n"
     ]
    }
   ],
   "source": [
    "ran1 = f1(a, -50, -50, 45 )\n",
    "AoOpt , basura = curve_fit (f1, a, ran1)\n",
    "\n",
    "ran2 = f1(sumalista(AoOpt)/len(AoOpt), a, 10, 45 )\n",
    "A1Opt , basura = curve_fit (f1, a, ran2)\n",
    "\n",
    "ran3 = f1(sumalista(AoOpt)/len(AoOpt), sumalista(A1Opt)/len(A1Opt), a, 45 )\n",
    "A2Opt , basura = curve_fit (f1, a, ran3)\n"
   ]
  },
  {
   "cell_type": "code",
   "execution_count": 7,
   "metadata": {
    "collapsed": true
   },
   "outputs": [],
   "source": [
    "def f2 (Ao, A1, A2, Angulo):\n",
    "    return Ao+(A1*Angulo) +(A2*(Angulo**2))"
   ]
  },
  {
   "cell_type": "code",
   "execution_count": 8,
   "metadata": {
    "collapsed": false
   },
   "outputs": [],
   "source": [
    "ran1 = f2(a, -50, -50, 45 )\n",
    "AoOpt , basura = curve_fit (f2, a, ran1)\n",
    "\n",
    "ran2 = f2(sumalista(AoOpt)/len(AoOpt), a, 10, 45 )\n",
    "A1Opt , basura = curve_fit (f2, a, ran2)\n",
    "\n",
    "ran3 = f2(sumalista(AoOpt)/len(AoOpt), sumalista(A1Opt)/len(A1Opt), a, 45 )\n",
    "A2Opt , basura = curve_fit (f2, a, ran3)"
   ]
  }
 ],
 "metadata": {
  "kernelspec": {
   "display_name": "Python 2",
   "language": "python",
   "name": "python2"
  },
  "language_info": {
   "codemirror_mode": {
    "name": "ipython",
    "version": 2
   },
   "file_extension": ".py",
   "mimetype": "text/x-python",
   "name": "python",
   "nbconvert_exporter": "python",
   "pygments_lexer": "ipython2",
   "version": "2.7.12"
  }
 },
 "nbformat": 4,
 "nbformat_minor": 0
}
