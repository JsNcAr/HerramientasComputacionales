{
 "cells": [
  {
   "cell_type": "code",
   "execution_count": 1,
   "metadata": {},
   "outputs": [],
   "source": [
    "import numpy as np\n",
    "import matplotlib.pyplot as plt\n",
    "from scipy.optimize import curve_fit"
   ]
  },
  {
   "cell_type": "code",
   "execution_count": 2,
   "metadata": {},
   "outputs": [],
   "source": [
    "data = np.loadtxt(\"dataT10.txt\")"
   ]
  },
  {
   "cell_type": "code",
   "execution_count": 3,
   "metadata": {},
   "outputs": [
    {
     "name": "stdout",
     "output_type": "stream",
     "text": [
      "<class 'numpy.ndarray'>\n"
     ]
    }
   ],
   "source": [
    "anguloP = data[:,0]\n",
    "anguloA = data[:,1]\n",
    "Yo = data[:,2]\n",
    "Vo = data[:,3]\n",
    "a = data[:,4]\n",
    "print(type(a))\n"
   ]
  },
  {
   "cell_type": "code",
   "execution_count": 4,
   "metadata": {},
   "outputs": [],
   "source": [
    "def sumalista(listaNumeros):\n",
    "   if len(listaNumeros) == 1:\n",
    "        return float(listaNumeros[0])\n",
    "   else:\n",
    "        return float(listaNumeros[0] + sumalista(listaNumeros[1:]))"
   ]
  },
  {
   "cell_type": "code",
   "execution_count": 5,
   "metadata": {},
   "outputs": [],
   "source": [
    "def f1 (Ao, A1, A2, Angulo):\n",
    "    return Ao*(np.cos(2*(np.pi*Angulo/180) +A1) ) + A2\n"
   ]
  },
  {
   "cell_type": "code",
   "execution_count": 6,
   "metadata": {},
   "outputs": [
    {
     "name": "stderr",
     "output_type": "stream",
     "text": [
      "/home/codespace/.local/lib/python3.10/site-packages/scipy/optimize/_minpack_py.py:906: OptimizeWarning: Covariance of the parameters could not be estimated\n",
      "  warnings.warn('Covariance of the parameters could not be estimated',\n"
     ]
    }
   ],
   "source": [
    "ran1 = f1(a, -8, -8, 45 )\n",
    "AoOpt , basura = curve_fit (f1, a, ran1)\n",
    "\n",
    "ran2 = f1(sumalista(AoOpt)/len(AoOpt), a, 10, 45 )\n",
    "A1Opt , basura = curve_fit (f1, a, ran2)\n",
    "\n",
    "ran3 = f1(sumalista(AoOpt)/len(AoOpt), sumalista(A1Opt)/len(A1Opt), a, 45 )\n",
    "A2Opt , basura = curve_fit (f1, a, ran3)\n",
    "\n",
    "f1Fin = f1(sumalista(AoOpt)/len(AoOpt), sumalista(A1Opt)/len(A1Opt), sumalista(A2Opt)/len(A2Opt), anguloP  )\n",
    "f1Fin= sorted(f1Fin, reverse=True)"
   ]
  },
  {
   "cell_type": "code",
   "execution_count": 7,
   "metadata": {},
   "outputs": [],
   "source": [
    "def f2 (Ao, A1, A2, Angulo):\n",
    "    return Ao+(A1*Angulo) +(A2*(Angulo*Angulo))"
   ]
  },
  {
   "cell_type": "code",
   "execution_count": 8,
   "metadata": {},
   "outputs": [],
   "source": [
    "ran1 = f2(a, -8, -8, 45 )\n",
    "AoOpt , basura = curve_fit (f2, a, ran1)\n",
    "\n",
    "ran2 = f2(sumalista(AoOpt)/len(AoOpt), a, 10, 45 )\n",
    "A1Opt , basura = curve_fit (f2, a, ran2)\n",
    "\n",
    "ran3 = f2(sumalista(AoOpt)/len(AoOpt), sumalista(A1Opt)/len(A1Opt), a, 45 )\n",
    "A2Opt , basura = curve_fit (f2, a, ran3)\n",
    "\n",
    "f2Fin = f1(sumalista(AoOpt)/len(AoOpt), sumalista(A1Opt)/len(A1Opt), sumalista(A2Opt)/len(A2Opt), anguloP )\n",
    "f2Fin= sorted(f2Fin, reverse=True)\n"
   ]
  },
  {
   "cell_type": "code",
   "execution_count": 9,
   "metadata": {},
   "outputs": [
    {
     "data": {
      "text/plain": [
       "<matplotlib.legend.Legend at 0x7f3edddb9cf0>"
      ]
     },
     "execution_count": 9,
     "metadata": {},
     "output_type": "execute_result"
    },
    {
     "data": {
      "image/png": "[encoded data removed]",
      "text/plain": [
       "<Figure size 640x480 with 1 Axes>"
      ]
     },
     "metadata": {},
     "output_type": "display_data"
    }
   ],
   "source": [
    "x = np.linspace(0,len(f1Fin),len(f1Fin))\n",
    "plt.plot(x, f1Fin, label=\"f1\")\n",
    "x2 = np.linspace(0,len(f2Fin),len(f2Fin))\n",
    "plt.plot(x2, f2Fin, label=\"f2\")\n",
    "plt.legend()"
   ]
  },
  {
   "cell_type": "markdown",
   "metadata": {},
   "source": [
    "Error\n"
   ]
  },
  {
   "cell_type": "code",
   "execution_count": 10,
   "metadata": {},
   "outputs": [],
   "source": [
    "def sumE (lista, lista2):\n",
    "    if len(lista) == 1 or len(lista2) == 1:\n",
    "        return float((lista[0]-lista2[0])**2)\n",
    "    else:\n",
    "        return float( (lista[0]-lista2[0])**2 + sumE(lista[1:], lista2[1:]))\n"
   ]
  },
  {
   "cell_type": "code",
   "execution_count": 12,
   "metadata": {},
   "outputs": [
    {
     "name": "stdout",
     "output_type": "stream",
     "text": [
      "F1 es mas precisa\n"
     ]
    }
   ],
   "source": [
    "a = sorted(a, reverse=True)\n",
    "\n",
    "#error F1\n",
    "e1=sumE(f1Fin, a)\n",
    "#error F2\n",
    "e2 =sumE(f2Fin, a)\n",
    "\n",
    "if e1>e2:\n",
    "    print(\"F2 es mas precisa\")\n",
    "else:\n",
    "    print(\"F1 es mas precisa\")\n",
    "\n"
   ]
  }
 ],
 "metadata": {
  "kernelspec": {
   "display_name": "Python 3",
   "language": "python",
   "name": "python3"
  },
  "language_info": {
   "codemirror_mode": {
    "name": "ipython",
    "version": 3
   },
   "file_extension": ".py",
   "mimetype": "text/x-python",
   "name": "python",
   "nbconvert_exporter": "python",
   "pygments_lexer": "ipython3",
   "version": "3.10.4"
  },
  "vscode": {
   "interpreter": {
    "hash": "3ad933181bd8a04b432d3370b9dc3b0662ad032c4dfaa4e4f1596c548f763858"
   }
  }
 },
 "nbformat": 4,
 "nbformat_minor": 1
}
