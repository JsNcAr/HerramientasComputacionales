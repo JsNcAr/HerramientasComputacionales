{
 "cells": [
  {
   "cell_type": "code",
   "execution_count": 1,
   "metadata": {
    "collapsed": false,
    "scrolled": true
   },
   "outputs": [
    {
     "name": "stdout",
     "output_type": "stream",
     "text": [
      "Populating the interactive namespace from numpy and matplotlib\n"
     ]
    }
   ],
   "source": [
    "%pylab inline"
   ]
  },
  {
   "cell_type": "markdown",
   "metadata": {},
   "source": [
    "El metodo Bisection a traves del punto medio y de la busqueda de un cambio de signo calcula un valor aproximado para la raiz de la funcion, mientras que el metodo newton-rapson con un punto dado dado calcula su recta tangente y evalua F(x) en el punto donde la tangente es igual a 0, y si esto es igual a 0, sera una raiz, de modo contrario tomara el valor de F(x')para volver a calcular la tangente y evaluar los puntos.\n"
   ]
  },
  {
   "cell_type": "code",
   "execution_count": 2,
   "metadata": {
    "collapsed": true
   },
   "outputs": [],
   "source": [
    "def f (x):\n",
    "    return ((x)**x)-6\n",
    "ab = []\n",
    "an = []"
   ]
  },
  {
   "cell_type": "code",
   "execution_count": 3,
   "metadata": {
    "collapsed": true
   },
   "outputs": [],
   "source": [
    "def bisection (a,b,tol):\n",
    "    if f(a)*f(b)>0:\n",
    "        raise Exception (\"No Hay cambio de signo \")\n",
    "    c = (a+b)/2.0 \n",
    "    while (b-a)/2.0 > tol:\n",
    "        if f(c)==0:\n",
    "            return c\n",
    "        elif f(a)*f(c)<0:\n",
    "            b=c\n",
    "        else:\n",
    "            a=c\n",
    "        c = (a+b)/2.0\n",
    "        ab.append(c)\n",
    "    return c\n",
    "    \n",
    "    "
   ]
  },
  {
   "cell_type": "code",
   "execution_count": 4,
   "metadata": {
    "collapsed": true
   },
   "outputs": [],
   "source": [
    "def d(x):\n",
    "    h= 0.00000001\n",
    "    return (f(x+h)-f(x-h))/(2*h)\n",
    "\n",
    "def newt(x,n):\n",
    "    for i in range(n):\n",
    "        if d(x)== 0:\n",
    "            return x\n",
    "        an.append(x)\n",
    "        x = x-f(x)/d(x)\n",
    "    return x\n"
   ]
  },
  {
   "cell_type": "code",
   "execution_count": 5,
   "metadata": {
    "collapsed": false
   },
   "outputs": [
    {
     "data": {
      "text/plain": [
       "2.2318286244090095"
      ]
     },
     "execution_count": 5,
     "metadata": {},
     "output_type": "execute_result"
    }
   ],
   "source": [
    "bisection(-10.0 ,10, 0.0000001)\n",
    "newt(4.0, 10)"
   ]
  },
  {
   "cell_type": "code",
   "execution_count": 11,
   "metadata": {
    "collapsed": false
   },
   "outputs": [
    {
     "data": {
      "text/plain": [
       "<matplotlib.legend.Legend at 0x7fb4ed868210>"
      ]
     },
     "execution_count": 11,
     "metadata": {},
     "output_type": "execute_result"
    },
    {
     "data": {
      "image/png": "[encoded data removed]",
      "text/plain": [
       "<matplotlib.figure.Figure at 0x7fb4ed9b0d90>"
      ]
     },
     "metadata": {},
     "output_type": "display_data"
    }
   ],
   "source": [
    "\n",
    "x = linspace(0,an[-1],len(an))\n",
    "plt.plot(x, an, c=\"brown\", label = \"Newton\")\n",
    "x = linspace(0,ab[-1],len(ab))\n",
    "plt.plot(x, ab, c=\"Green\", label = \"Bisection\")\n",
    "plt.title(\"Newton Vs Bisection\")\n",
    "plt.xlabel(\"Iteraciones\")\n",
    "plt.ylabel(\"raiz\")\n",
    "legend()\n",
    "\n",
    "\n",
    "\n"
   ]
  },
  {
   "cell_type": "markdown",
   "metadata": {},
   "source": [
    "En la grafica podemos observar como la funcion de Newton Rapson encontro un valor aproximado mucho mas rapido que la bisection a travez del punto medio, sin embargo, al final ambos llegaron a un resultado muy similar y pueden haber problemas en los que la biseccion sea mas precisa y rapida"
   ]
  }
 ],
 "metadata": {
  "kernelspec": {
   "display_name": "Python 2",
   "language": "python",
   "name": "python2"
  },
  "language_info": {
   "codemirror_mode": {
    "name": "ipython",
    "version": 2
   },
   "file_extension": ".py",
   "mimetype": "text/x-python",
   "name": "python",
   "nbconvert_exporter": "python",
   "pygments_lexer": "ipython2",
   "version": "2.7.12"
  }
 },
 "nbformat": 4,
 "nbformat_minor": 0
}
